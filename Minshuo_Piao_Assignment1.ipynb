{
  "nbformat": 4,
  "nbformat_minor": 0,
  "metadata": {
    "colab": {
      "provenance": [],
      "collapsed_sections": [
        "mHdM_XziUQ58",
        "me-T2NLyVIeH"
      ],
      "gpuType": "T4"
    },
    "kernelspec": {
      "name": "python3",
      "display_name": "Python 3"
    },
    "language_info": {
      "name": "python"
    },
    "accelerator": "GPU"
  },
  "cells": [
    {
      "cell_type": "code",
      "execution_count": 1,
      "metadata": {
        "colab": {
          "base_uri": "https://localhost:8080/"
        },
        "collapsed": true,
        "id": "VzSEBqkGUDXl",
        "outputId": "b5ce3446-6609-4728-879d-6084ba4e830a"
      },
      "outputs": [
        {
          "output_type": "stream",
          "name": "stdout",
          "text": [
            "Requirement already satisfied: torch in /usr/local/lib/python3.11/dist-packages (2.5.1+cu124)\n",
            "Requirement already satisfied: torchvision in /usr/local/lib/python3.11/dist-packages (0.20.1+cu124)\n",
            "Requirement already satisfied: torchaudio in /usr/local/lib/python3.11/dist-packages (2.5.1+cu124)\n",
            "Requirement already satisfied: filelock in /usr/local/lib/python3.11/dist-packages (from torch) (3.17.0)\n",
            "Requirement already satisfied: typing-extensions>=4.8.0 in /usr/local/lib/python3.11/dist-packages (from torch) (4.12.2)\n",
            "Requirement already satisfied: networkx in /usr/local/lib/python3.11/dist-packages (from torch) (3.4.2)\n",
            "Requirement already satisfied: jinja2 in /usr/local/lib/python3.11/dist-packages (from torch) (3.1.5)\n",
            "Requirement already satisfied: fsspec in /usr/local/lib/python3.11/dist-packages (from torch) (2024.10.0)\n",
            "Collecting nvidia-cuda-nvrtc-cu12==12.4.127 (from torch)\n",
            "  Downloading nvidia_cuda_nvrtc_cu12-12.4.127-py3-none-manylinux2014_x86_64.whl.metadata (1.5 kB)\n",
            "Collecting nvidia-cuda-runtime-cu12==12.4.127 (from torch)\n",
            "  Downloading nvidia_cuda_runtime_cu12-12.4.127-py3-none-manylinux2014_x86_64.whl.metadata (1.5 kB)\n",
            "Collecting nvidia-cuda-cupti-cu12==12.4.127 (from torch)\n",
            "  Downloading nvidia_cuda_cupti_cu12-12.4.127-py3-none-manylinux2014_x86_64.whl.metadata (1.6 kB)\n",
            "Collecting nvidia-cudnn-cu12==9.1.0.70 (from torch)\n",
            "  Downloading nvidia_cudnn_cu12-9.1.0.70-py3-none-manylinux2014_x86_64.whl.metadata (1.6 kB)\n",
            "Collecting nvidia-cublas-cu12==12.4.5.8 (from torch)\n",
            "  Downloading nvidia_cublas_cu12-12.4.5.8-py3-none-manylinux2014_x86_64.whl.metadata (1.5 kB)\n",
            "Collecting nvidia-cufft-cu12==11.2.1.3 (from torch)\n",
            "  Downloading nvidia_cufft_cu12-11.2.1.3-py3-none-manylinux2014_x86_64.whl.metadata (1.5 kB)\n",
            "Collecting nvidia-curand-cu12==10.3.5.147 (from torch)\n",
            "  Downloading nvidia_curand_cu12-10.3.5.147-py3-none-manylinux2014_x86_64.whl.metadata (1.5 kB)\n",
            "Collecting nvidia-cusolver-cu12==11.6.1.9 (from torch)\n",
            "  Downloading nvidia_cusolver_cu12-11.6.1.9-py3-none-manylinux2014_x86_64.whl.metadata (1.6 kB)\n",
            "Collecting nvidia-cusparse-cu12==12.3.1.170 (from torch)\n",
            "  Downloading nvidia_cusparse_cu12-12.3.1.170-py3-none-manylinux2014_x86_64.whl.metadata (1.6 kB)\n",
            "Requirement already satisfied: nvidia-nccl-cu12==2.21.5 in /usr/local/lib/python3.11/dist-packages (from torch) (2.21.5)\n",
            "Requirement already satisfied: nvidia-nvtx-cu12==12.4.127 in /usr/local/lib/python3.11/dist-packages (from torch) (12.4.127)\n",
            "Collecting nvidia-nvjitlink-cu12==12.4.127 (from torch)\n",
            "  Downloading nvidia_nvjitlink_cu12-12.4.127-py3-none-manylinux2014_x86_64.whl.metadata (1.5 kB)\n",
            "Requirement already satisfied: triton==3.1.0 in /usr/local/lib/python3.11/dist-packages (from torch) (3.1.0)\n",
            "Requirement already satisfied: sympy==1.13.1 in /usr/local/lib/python3.11/dist-packages (from torch) (1.13.1)\n",
            "Requirement already satisfied: mpmath<1.4,>=1.1.0 in /usr/local/lib/python3.11/dist-packages (from sympy==1.13.1->torch) (1.3.0)\n",
            "Requirement already satisfied: numpy in /usr/local/lib/python3.11/dist-packages (from torchvision) (1.26.4)\n",
            "Requirement already satisfied: pillow!=8.3.*,>=5.3.0 in /usr/local/lib/python3.11/dist-packages (from torchvision) (11.1.0)\n",
            "Requirement already satisfied: MarkupSafe>=2.0 in /usr/local/lib/python3.11/dist-packages (from jinja2->torch) (3.0.2)\n",
            "Downloading nvidia_cublas_cu12-12.4.5.8-py3-none-manylinux2014_x86_64.whl (363.4 MB)\n",
            "\u001b[2K   \u001b[90m━━━━━━━━━━━━━━━━━━━━━━━━━━━━━━━━━━━━━━━━\u001b[0m \u001b[32m363.4/363.4 MB\u001b[0m \u001b[31m2.6 MB/s\u001b[0m eta \u001b[36m0:00:00\u001b[0m\n",
            "\u001b[?25hDownloading nvidia_cuda_cupti_cu12-12.4.127-py3-none-manylinux2014_x86_64.whl (13.8 MB)\n",
            "\u001b[2K   \u001b[90m━━━━━━━━━━━━━━━━━━━━━━━━━━━━━━━━━━━━━━━━\u001b[0m \u001b[32m13.8/13.8 MB\u001b[0m \u001b[31m38.7 MB/s\u001b[0m eta \u001b[36m0:00:00\u001b[0m\n",
            "\u001b[?25hDownloading nvidia_cuda_nvrtc_cu12-12.4.127-py3-none-manylinux2014_x86_64.whl (24.6 MB)\n",
            "\u001b[2K   \u001b[90m━━━━━━━━━━━━━━━━━━━━━━━━━━━━━━━━━━━━━━━━\u001b[0m \u001b[32m24.6/24.6 MB\u001b[0m \u001b[31m58.9 MB/s\u001b[0m eta \u001b[36m0:00:00\u001b[0m\n",
            "\u001b[?25hDownloading nvidia_cuda_runtime_cu12-12.4.127-py3-none-manylinux2014_x86_64.whl (883 kB)\n",
            "\u001b[2K   \u001b[90m━━━━━━━━━━━━━━━━━━━━━━━━━━━━━━━━━━━━━━━━\u001b[0m \u001b[32m883.7/883.7 kB\u001b[0m \u001b[31m48.5 MB/s\u001b[0m eta \u001b[36m0:00:00\u001b[0m\n",
            "\u001b[?25hDownloading nvidia_cudnn_cu12-9.1.0.70-py3-none-manylinux2014_x86_64.whl (664.8 MB)\n",
            "\u001b[2K   \u001b[90m━━━━━━━━━━━━━━━━━━━━━━━━━━━━━━━━━━━━━━━━\u001b[0m \u001b[32m664.8/664.8 MB\u001b[0m \u001b[31m2.2 MB/s\u001b[0m eta \u001b[36m0:00:00\u001b[0m\n",
            "\u001b[?25hDownloading nvidia_cufft_cu12-11.2.1.3-py3-none-manylinux2014_x86_64.whl (211.5 MB)\n",
            "\u001b[2K   \u001b[90m━━━━━━━━━━━━━━━━━━━━━━━━━━━━━━━━━━━━━━━━\u001b[0m \u001b[32m211.5/211.5 MB\u001b[0m \u001b[31m5.2 MB/s\u001b[0m eta \u001b[36m0:00:00\u001b[0m\n",
            "\u001b[?25hDownloading nvidia_curand_cu12-10.3.5.147-py3-none-manylinux2014_x86_64.whl (56.3 MB)\n",
            "\u001b[2K   \u001b[90m━━━━━━━━━━━━━━━━━━━━━━━━━━━━━━━━━━━━━━━━\u001b[0m \u001b[32m56.3/56.3 MB\u001b[0m \u001b[31m13.8 MB/s\u001b[0m eta \u001b[36m0:00:00\u001b[0m\n",
            "\u001b[?25hDownloading nvidia_cusolver_cu12-11.6.1.9-py3-none-manylinux2014_x86_64.whl (127.9 MB)\n",
            "\u001b[2K   \u001b[90m━━━━━━━━━━━━━━━━━━━━━━━━━━━━━━━━━━━━━━━━\u001b[0m \u001b[32m127.9/127.9 MB\u001b[0m \u001b[31m7.2 MB/s\u001b[0m eta \u001b[36m0:00:00\u001b[0m\n",
            "\u001b[?25hDownloading nvidia_cusparse_cu12-12.3.1.170-py3-none-manylinux2014_x86_64.whl (207.5 MB)\n",
            "\u001b[2K   \u001b[90m━━━━━━━━━━━━━━━━━━━━━━━━━━━━━━━━━━━━━━━━\u001b[0m \u001b[32m207.5/207.5 MB\u001b[0m \u001b[31m5.2 MB/s\u001b[0m eta \u001b[36m0:00:00\u001b[0m\n",
            "\u001b[?25hDownloading nvidia_nvjitlink_cu12-12.4.127-py3-none-manylinux2014_x86_64.whl (21.1 MB)\n",
            "\u001b[2K   \u001b[90m━━━━━━━━━━━━━━━━━━━━━━━━━━━━━━━━━━━━━━━━\u001b[0m \u001b[32m21.1/21.1 MB\u001b[0m \u001b[31m55.6 MB/s\u001b[0m eta \u001b[36m0:00:00\u001b[0m\n",
            "\u001b[?25hInstalling collected packages: nvidia-nvjitlink-cu12, nvidia-curand-cu12, nvidia-cufft-cu12, nvidia-cuda-runtime-cu12, nvidia-cuda-nvrtc-cu12, nvidia-cuda-cupti-cu12, nvidia-cublas-cu12, nvidia-cusparse-cu12, nvidia-cudnn-cu12, nvidia-cusolver-cu12\n",
            "  Attempting uninstall: nvidia-nvjitlink-cu12\n",
            "    Found existing installation: nvidia-nvjitlink-cu12 12.5.82\n",
            "    Uninstalling nvidia-nvjitlink-cu12-12.5.82:\n",
            "      Successfully uninstalled nvidia-nvjitlink-cu12-12.5.82\n",
            "  Attempting uninstall: nvidia-curand-cu12\n",
            "    Found existing installation: nvidia-curand-cu12 10.3.6.82\n",
            "    Uninstalling nvidia-curand-cu12-10.3.6.82:\n",
            "      Successfully uninstalled nvidia-curand-cu12-10.3.6.82\n",
            "  Attempting uninstall: nvidia-cufft-cu12\n",
            "    Found existing installation: nvidia-cufft-cu12 11.2.3.61\n",
            "    Uninstalling nvidia-cufft-cu12-11.2.3.61:\n",
            "      Successfully uninstalled nvidia-cufft-cu12-11.2.3.61\n",
            "  Attempting uninstall: nvidia-cuda-runtime-cu12\n",
            "    Found existing installation: nvidia-cuda-runtime-cu12 12.5.82\n",
            "    Uninstalling nvidia-cuda-runtime-cu12-12.5.82:\n",
            "      Successfully uninstalled nvidia-cuda-runtime-cu12-12.5.82\n",
            "  Attempting uninstall: nvidia-cuda-nvrtc-cu12\n",
            "    Found existing installation: nvidia-cuda-nvrtc-cu12 12.5.82\n",
            "    Uninstalling nvidia-cuda-nvrtc-cu12-12.5.82:\n",
            "      Successfully uninstalled nvidia-cuda-nvrtc-cu12-12.5.82\n",
            "  Attempting uninstall: nvidia-cuda-cupti-cu12\n",
            "    Found existing installation: nvidia-cuda-cupti-cu12 12.5.82\n",
            "    Uninstalling nvidia-cuda-cupti-cu12-12.5.82:\n",
            "      Successfully uninstalled nvidia-cuda-cupti-cu12-12.5.82\n",
            "  Attempting uninstall: nvidia-cublas-cu12\n",
            "    Found existing installation: nvidia-cublas-cu12 12.5.3.2\n",
            "    Uninstalling nvidia-cublas-cu12-12.5.3.2:\n",
            "      Successfully uninstalled nvidia-cublas-cu12-12.5.3.2\n",
            "  Attempting uninstall: nvidia-cusparse-cu12\n",
            "    Found existing installation: nvidia-cusparse-cu12 12.5.1.3\n",
            "    Uninstalling nvidia-cusparse-cu12-12.5.1.3:\n",
            "      Successfully uninstalled nvidia-cusparse-cu12-12.5.1.3\n",
            "  Attempting uninstall: nvidia-cudnn-cu12\n",
            "    Found existing installation: nvidia-cudnn-cu12 9.3.0.75\n",
            "    Uninstalling nvidia-cudnn-cu12-9.3.0.75:\n",
            "      Successfully uninstalled nvidia-cudnn-cu12-9.3.0.75\n",
            "  Attempting uninstall: nvidia-cusolver-cu12\n",
            "    Found existing installation: nvidia-cusolver-cu12 11.6.3.83\n",
            "    Uninstalling nvidia-cusolver-cu12-11.6.3.83:\n",
            "      Successfully uninstalled nvidia-cusolver-cu12-11.6.3.83\n",
            "Successfully installed nvidia-cublas-cu12-12.4.5.8 nvidia-cuda-cupti-cu12-12.4.127 nvidia-cuda-nvrtc-cu12-12.4.127 nvidia-cuda-runtime-cu12-12.4.127 nvidia-cudnn-cu12-9.1.0.70 nvidia-cufft-cu12-11.2.1.3 nvidia-curand-cu12-10.3.5.147 nvidia-cusolver-cu12-11.6.1.9 nvidia-cusparse-cu12-12.3.1.170 nvidia-nvjitlink-cu12-12.4.127\n"
          ]
        }
      ],
      "source": [
        "!pip install torch torchvision torchaudio"
      ]
    },
    {
      "cell_type": "code",
      "source": [
        "import torch\n",
        "from torch import nn\n",
        "from torch.utils.data import DataLoader\n",
        "from torchvision import datasets\n",
        "from torchvision.transforms import ToTensor\n",
        "device = torch.device(\"cuda\" if torch.cuda.is_available() else \"cpu\")"
      ],
      "metadata": {
        "id": "VN2_f7IoUIGz"
      },
      "execution_count": 2,
      "outputs": []
    },
    {
      "cell_type": "markdown",
      "source": [
        "### 1. Constructing tensors"
      ],
      "metadata": {
        "id": "mHdM_XziUQ58"
      }
    },
    {
      "cell_type": "code",
      "source": [
        "tensor_0 = torch.tensor(6)\n",
        "print(\"0 Dimensional Tensor:\", tensor_0)\n",
        "print(\"Shape is:\", tensor_0.shape)"
      ],
      "metadata": {
        "colab": {
          "base_uri": "https://localhost:8080/"
        },
        "id": "isM7sDc_UT8o",
        "outputId": "57ea82f4-d01a-4a4d-b3d0-1c531eddc6bc"
      },
      "execution_count": 42,
      "outputs": [
        {
          "output_type": "stream",
          "name": "stdout",
          "text": [
            "0 Dimensional Tensor: tensor(6)\n",
            "Shape is: torch.Size([])\n"
          ]
        }
      ]
    },
    {
      "cell_type": "code",
      "source": [
        "tensor_1 = torch.tensor([1, 2, 3])\n",
        "print(\"1 Dimensional Tensor:\", tensor_1)\n",
        "print(\"Shape is:\", tensor_1.shape)"
      ],
      "metadata": {
        "colab": {
          "base_uri": "https://localhost:8080/"
        },
        "id": "xz37Bq-eUWNX",
        "outputId": "b4898fe3-40be-4924-b96d-0c2fafe2315e"
      },
      "execution_count": 43,
      "outputs": [
        {
          "output_type": "stream",
          "name": "stdout",
          "text": [
            "1 Dimensional Tensor: tensor([1, 2, 3])\n",
            "Shape is: torch.Size([3])\n"
          ]
        }
      ]
    },
    {
      "cell_type": "code",
      "source": [
        "tensor_2 = torch.tensor([[1, -1], [1, -1]])\n",
        "print(\"2 Dimensional Tensor:\", tensor_2)\n",
        "print(\"Shape is:\", tensor_2.shape)"
      ],
      "metadata": {
        "colab": {
          "base_uri": "https://localhost:8080/"
        },
        "id": "ZIvGjEMaUYVP",
        "outputId": "dd0fd2cf-8c10-4a8e-e719-bab821625d6c"
      },
      "execution_count": 44,
      "outputs": [
        {
          "output_type": "stream",
          "name": "stdout",
          "text": [
            "2 Dimensional Tensor: tensor([[ 1, -1],\n",
            "        [ 1, -1]])\n",
            "Shape is: torch.Size([2, 2])\n"
          ]
        }
      ]
    },
    {
      "cell_type": "code",
      "source": [
        "tensor_3 = torch.tensor([[[1, 2, 3], [2, 3, 4]], [[2, 5, 6], [1, 5, 7]]])\n",
        "print(\"3 Dimensional Tensor:\", tensor_3)\n",
        "print(\"Shape is:\", tensor_3.shape)"
      ],
      "metadata": {
        "colab": {
          "base_uri": "https://localhost:8080/"
        },
        "id": "oLF3KYwxUZ88",
        "outputId": "31024c91-9af8-4e8e-9f53-e0e94bb16e2c"
      },
      "execution_count": 45,
      "outputs": [
        {
          "output_type": "stream",
          "name": "stdout",
          "text": [
            "3 Dimensional Tensor: tensor([[[1, 2, 3],\n",
            "         [2, 3, 4]],\n",
            "\n",
            "        [[2, 5, 6],\n",
            "         [1, 5, 7]]])\n",
            "Shape is: torch.Size([2, 2, 3])\n"
          ]
        }
      ]
    },
    {
      "cell_type": "code",
      "source": [
        "tensor_4 = torch.tensor([[[[1, 2, 3],[1, 2, 3]], [[2, 3, 4], [2, 3, 4]]],\n",
        "                        [[[1, 1, 1], [2, 2, 2]], [[2, 3, 4], [4, 5, 6]]]])\n",
        "print(\"4 Dimensional Tensor:\", tensor_4)\n",
        "print(\"Shape is:\", tensor_4.shape)"
      ],
      "metadata": {
        "colab": {
          "base_uri": "https://localhost:8080/"
        },
        "id": "04RieHXEUcgD",
        "outputId": "8a7a2154-c068-4633-d73e-598dc7812dbd"
      },
      "execution_count": 46,
      "outputs": [
        {
          "output_type": "stream",
          "name": "stdout",
          "text": [
            "4 Dimensional Tensor: tensor([[[[1, 2, 3],\n",
            "          [1, 2, 3]],\n",
            "\n",
            "         [[2, 3, 4],\n",
            "          [2, 3, 4]]],\n",
            "\n",
            "\n",
            "        [[[1, 1, 1],\n",
            "          [2, 2, 2]],\n",
            "\n",
            "         [[2, 3, 4],\n",
            "          [4, 5, 6]]]])\n",
            "Shape is: torch.Size([2, 2, 2, 3])\n"
          ]
        }
      ]
    },
    {
      "cell_type": "markdown",
      "source": [
        "### 2. Other ways to generate tensors"
      ],
      "metadata": {
        "id": "sbMUMqZfUink"
      }
    },
    {
      "cell_type": "code",
      "source": [
        "tensor_zero_4 = torch.zeros([2, 2, 2, 3], dtype=torch.int32)\n",
        "print(\"5 Dimensional zero Tensor:\", tensor_zero_4)\n",
        "print(\"Shape is:\", tensor_zero_4.shape)"
      ],
      "metadata": {
        "colab": {
          "base_uri": "https://localhost:8080/"
        },
        "id": "yOG1QBUSUeHA",
        "outputId": "5ad3bc0e-2c2c-4501-a0c7-3af4ce8bfbbb"
      },
      "execution_count": 8,
      "outputs": [
        {
          "output_type": "stream",
          "name": "stdout",
          "text": [
            "5 Dimensional zero Tensor: tensor([[[[0, 0, 0],\n",
            "          [0, 0, 0]],\n",
            "\n",
            "         [[0, 0, 0],\n",
            "          [0, 0, 0]]],\n",
            "\n",
            "\n",
            "        [[[0, 0, 0],\n",
            "          [0, 0, 0]],\n",
            "\n",
            "         [[0, 0, 0],\n",
            "          [0, 0, 0]]]], dtype=torch.int32)\n",
            "Shape is: torch.Size([2, 2, 2, 3])\n"
          ]
        }
      ]
    },
    {
      "cell_type": "code",
      "source": [
        "# rand can only create float\n",
        "tensor_ran_3 = torch.rand(2, 2, 3, dtype=torch.float16)\n",
        "print(\"3 Dimensional random tensor:\", tensor_ran_3)\n",
        "print(\"Shape is:\", tensor_ran_3.shape)"
      ],
      "metadata": {
        "colab": {
          "base_uri": "https://localhost:8080/"
        },
        "id": "Yv9qCHyZUmVh",
        "outputId": "42115e75-2459-43c8-ac6c-b27ae147ccad"
      },
      "execution_count": 9,
      "outputs": [
        {
          "output_type": "stream",
          "name": "stdout",
          "text": [
            "3 Dimensional random tensor: tensor([[[0.5698, 0.4521, 0.7466],\n",
            "         [0.5615, 0.4209, 0.5845]],\n",
            "\n",
            "        [[0.0200, 0.9336, 0.6123],\n",
            "         [0.2280, 0.7490, 0.8188]]], dtype=torch.float16)\n",
            "Shape is: torch.Size([2, 2, 3])\n"
          ]
        }
      ]
    },
    {
      "cell_type": "code",
      "source": [
        "tensor_ran_normal = torch.randn(2, 4)\n",
        "print(\"2 Dimensional random tensor from standard normal distribution:\", tensor_ran_normal)\n",
        "print(\"Shape is:\", tensor_ran_normal.shape)"
      ],
      "metadata": {
        "colab": {
          "base_uri": "https://localhost:8080/"
        },
        "id": "wmycaJr5UoEc",
        "outputId": "70ff3839-c47c-4cce-8279-7052886dbf34"
      },
      "execution_count": 10,
      "outputs": [
        {
          "output_type": "stream",
          "name": "stdout",
          "text": [
            "2 Dimensional random tensor from standard normal distribution: tensor([[ 0.5517,  0.4020, -0.6754, -0.5113],\n",
            "        [ 0.8189, -0.0009,  0.4104, -0.2530]])\n",
            "Shape is: torch.Size([2, 4])\n"
          ]
        }
      ]
    },
    {
      "cell_type": "code",
      "source": [
        "tensor_ran_normal_1 = torch.randn(1, 3)\n",
        "print(\"2 Dimensional random tensor:\", tensor_ran_normal_1)\n",
        "print(\"Shape is\", tensor_ran_normal_1.shape)"
      ],
      "metadata": {
        "colab": {
          "base_uri": "https://localhost:8080/"
        },
        "id": "O50SFiZOUpiq",
        "outputId": "c0ae3cfd-a2f5-4d1b-8e07-52e7fdbc9294"
      },
      "execution_count": 11,
      "outputs": [
        {
          "output_type": "stream",
          "name": "stdout",
          "text": [
            "2 Dimensional random tensor: tensor([[1.2779, 0.4620, 0.3765]])\n",
            "Shape is torch.Size([1, 3])\n"
          ]
        }
      ]
    },
    {
      "cell_type": "code",
      "source": [
        "tensor_ran_normal_2 = torch.randn(3)\n",
        "print(\"1 Dimensional random tensor:\", tensor_ran_normal_2)\n",
        "print(\"Shape is\", tensor_ran_normal_2.shape)"
      ],
      "metadata": {
        "colab": {
          "base_uri": "https://localhost:8080/"
        },
        "id": "GH6Wxff_UrSD",
        "outputId": "7e3f4c59-6064-416b-8d00-0cf9b0f25074"
      },
      "execution_count": 12,
      "outputs": [
        {
          "output_type": "stream",
          "name": "stdout",
          "text": [
            "1 Dimensional random tensor: tensor([ 0.8152, -0.0686,  0.5757])\n",
            "Shape is torch.Size([3])\n"
          ]
        }
      ]
    },
    {
      "cell_type": "markdown",
      "source": [
        "### 3. Tensor manipulations"
      ],
      "metadata": {
        "id": "VYMLUC7lUyip"
      }
    },
    {
      "cell_type": "code",
      "source": [
        "# Transpose: swap dimension 0 and 1\n",
        "x = torch.randn(2, 4)\n",
        "print(\"Before Transpose:\", x)\n",
        "x_transpose = torch.transpose(x, 0, 1)\n",
        "print(\"After Transpose:\", x_transpose)"
      ],
      "metadata": {
        "colab": {
          "base_uri": "https://localhost:8080/"
        },
        "id": "QtzfKmf7Uz-M",
        "outputId": "7c751560-04b1-4174-86bd-dc3b82a723d3"
      },
      "execution_count": 13,
      "outputs": [
        {
          "output_type": "stream",
          "name": "stdout",
          "text": [
            "Before Transpose: tensor([[ 1.1985,  0.3710, -0.1703,  0.9516],\n",
            "        [-0.0258,  0.0775, -1.9630,  1.3751]])\n",
            "After Transpose: tensor([[ 1.1985, -0.0258],\n",
            "        [ 0.3710,  0.0775],\n",
            "        [-0.1703, -1.9630],\n",
            "        [ 0.9516,  1.3751]])\n"
          ]
        }
      ]
    },
    {
      "cell_type": "code",
      "source": [
        "# Matrix mutplication\n",
        "# If both tensors are 1-dimensional, the dot product (scalar) is returned\n",
        "# If both arguments are 2-dimensional, the matrix-matrix product is returned.\n",
        "# If the first argument is 1-dimensional and the second argument is 2-dimensional, a 1 is prepended to its dimension for the purpose of the matrix multiply. After the matrix multiply, the prepended dimension is removed.\n",
        "# If the first argument is 2-dimensional and the second argument is 1-dimensional, the matrix-vector product is returned.\n",
        "# 1d * 2d\n",
        "tensor1 = torch.randn(3)\n",
        "tensor2 = torch.randn(1, 3)\n",
        "result = torch.matmul(tensor1, tensor2.T)\n",
        "print(\"The outcome is:\", result)\n",
        "print(\"The size is:\", result.size())"
      ],
      "metadata": {
        "colab": {
          "base_uri": "https://localhost:8080/"
        },
        "id": "8xYyaY_bU2Le",
        "outputId": "46446185-7736-42a3-dc87-689a7046f988"
      },
      "execution_count": 14,
      "outputs": [
        {
          "output_type": "stream",
          "name": "stdout",
          "text": [
            "The outcome is: tensor([0.2281])\n",
            "The size is: torch.Size([1])\n"
          ]
        }
      ]
    },
    {
      "cell_type": "code",
      "source": [
        "# 2d * 1d\n",
        "tensor3 = torch.randn(3, 4)\n",
        "tensor4 = torch.randn(4)\n",
        "result = torch.matmul(tensor3, tensor4)\n",
        "print(\"The outcome is:\", result)\n",
        "print(\"The size is:\", result.size())"
      ],
      "metadata": {
        "colab": {
          "base_uri": "https://localhost:8080/"
        },
        "id": "D6rKv9Z2U3yR",
        "outputId": "6cb1e2e0-88e4-4005-b4e5-da094c73307a"
      },
      "execution_count": 15,
      "outputs": [
        {
          "output_type": "stream",
          "name": "stdout",
          "text": [
            "The outcome is: tensor([ 5.5740, -0.1979,  5.0912])\n",
            "The size is: torch.Size([3])\n"
          ]
        }
      ]
    },
    {
      "cell_type": "code",
      "source": [
        "# batched matrix * batched matrix\n",
        "tensor5 = torch.randn(10, 3, 4)\n",
        "tensor6 = torch.randn(10, 4, 5)\n",
        "result = torch.matmul(tensor5, tensor6)\n",
        "print(\"The outcome is:\", result)\n",
        "print(\"The size is:\", result.size())"
      ],
      "metadata": {
        "colab": {
          "base_uri": "https://localhost:8080/"
        },
        "id": "auopyuohU5dw",
        "outputId": "87b3d436-24d2-4adb-ad93-ae5e94f4c776"
      },
      "execution_count": 16,
      "outputs": [
        {
          "output_type": "stream",
          "name": "stdout",
          "text": [
            "The outcome is: tensor([[[ 0.0144, -2.3281,  1.9583, -0.7866,  0.4718],\n",
            "         [-0.6703,  4.8151, -3.1421, -0.1640, -0.5721],\n",
            "         [-0.0711, -1.6728,  0.7995,  0.3953,  0.5475]],\n",
            "\n",
            "        [[-0.6107, -0.5733, -0.9197, -1.0053,  0.0777],\n",
            "         [-1.7003, -2.3417,  1.0706,  0.8453,  1.7635],\n",
            "         [ 1.0433, -2.2492,  0.7575,  0.2690, -1.3811]],\n",
            "\n",
            "        [[ 0.2270, -0.4989, -1.7120, -1.8576,  2.5113],\n",
            "         [ 1.3498,  2.3330,  0.3330,  0.9000, -0.8674],\n",
            "         [ 0.1554,  0.1469,  0.6096, -3.4972,  2.7129]],\n",
            "\n",
            "        [[ 3.7579,  1.9163,  2.5948, -1.2407, -1.4443],\n",
            "         [-2.3097,  0.6282, -0.0799, -1.7579,  1.4169],\n",
            "         [-1.3922,  0.2350, -1.4796, -1.2496,  1.0730]],\n",
            "\n",
            "        [[-2.5482,  0.7066, -5.1031,  1.4193,  2.0405],\n",
            "         [ 2.2074, -4.6894,  3.2618,  1.0202,  0.8505],\n",
            "         [-0.0461,  2.0624,  0.3758, -0.0762,  1.6681]],\n",
            "\n",
            "        [[-1.3599,  1.6895,  1.5081,  0.9917, -1.5874],\n",
            "         [-1.3441,  0.8880,  1.5216,  0.3061, -1.5242],\n",
            "         [ 1.1110, -1.5876, -1.9107, -1.4667, -1.1186]],\n",
            "\n",
            "        [[ 0.1192, -0.0344,  1.5038,  0.0935, -1.6125],\n",
            "         [-0.8559,  0.8772,  1.3355,  1.4354, -1.7044],\n",
            "         [ 2.2807, -1.9883,  1.9156,  0.0073,  1.8272]],\n",
            "\n",
            "        [[ 1.3945,  0.6991, -2.0915,  1.9130, -2.8009],\n",
            "         [ 1.9172,  1.9188,  2.8868,  4.5938, -3.6779],\n",
            "         [-0.5439, -2.5693, -2.4280, -0.6410, -2.6189]],\n",
            "\n",
            "        [[-3.6819,  4.4331, -1.6137,  1.6628, -2.3194],\n",
            "         [-0.7412, -1.3608, -0.0102,  1.0678, -0.6057],\n",
            "         [-1.4609, -0.3128, -1.5591, -2.0959, -1.2922]],\n",
            "\n",
            "        [[-2.2905,  0.4594,  0.0413,  0.5093,  0.9705],\n",
            "         [ 0.5875,  2.5322,  0.3312,  0.1646,  0.6394],\n",
            "         [-3.3099, -2.4075, -0.6517, -1.3107, -0.3852]]])\n",
            "The size is: torch.Size([10, 3, 5])\n"
          ]
        }
      ]
    },
    {
      "cell_type": "code",
      "source": [
        "# tensor8 -> (10, 4, 5), and multipy with tensor7\n",
        "tensor7 = torch.randn(10, 3, 4)\n",
        "tensor8 = torch.randn(4, 5)\n",
        "result = torch.matmul(tensor7, tensor8)\n",
        "print(\"The outcome is:\", result)\n",
        "print(\"The size is:\", result.size())"
      ],
      "metadata": {
        "colab": {
          "base_uri": "https://localhost:8080/"
        },
        "id": "RDBKDSD-U7EV",
        "outputId": "3afb8ae1-a616-428b-8f22-8409530c6e36"
      },
      "execution_count": 17,
      "outputs": [
        {
          "output_type": "stream",
          "name": "stdout",
          "text": [
            "The outcome is: tensor([[[-2.9562, -0.7493, -4.5228,  1.1418,  0.9417],\n",
            "         [ 1.6316,  0.4717,  0.3837,  2.3019, -0.1863],\n",
            "         [ 1.2367,  0.5853, -1.7535,  5.3097,  0.3481]],\n",
            "\n",
            "        [[ 4.3751, -0.5377,  0.2852,  0.2415, -1.7341],\n",
            "         [-2.6722,  4.0766,  0.9031, -2.1116, -4.4270],\n",
            "         [ 2.2990, -0.0207, -3.2002,  1.6674, -2.3037]],\n",
            "\n",
            "        [[-0.5575,  0.2192,  2.7401,  0.2169,  1.7131],\n",
            "         [-2.5931, -2.2621,  1.0834, -1.6149,  4.3862],\n",
            "         [ 0.8002, -0.4064,  0.8528, -0.6927,  0.1435]],\n",
            "\n",
            "        [[-3.0327, -0.5360, -2.4111, -1.6397,  0.3742],\n",
            "         [ 1.6764, -0.0474,  1.0001,  0.9378,  0.0839],\n",
            "         [-1.5037, -1.1202, -0.7336, -1.6202,  1.1496]],\n",
            "\n",
            "        [[-0.9067,  1.3605,  0.9317, -2.1423, -1.8975],\n",
            "         [ 0.0171, -0.6183, -2.5833,  4.1981,  1.6543],\n",
            "         [ 0.0367, -0.3664,  0.3390,  0.0263,  0.6724]],\n",
            "\n",
            "        [[ 0.2395,  1.3535, -3.0281, -0.9396, -4.1756],\n",
            "         [-0.7886,  1.8151, -1.5780, -1.1528, -3.4506],\n",
            "         [ 0.4369, -0.7542,  1.3067, -0.8382,  1.0131]],\n",
            "\n",
            "        [[-1.8314, -0.5906, -1.2152,  0.8126,  1.7010],\n",
            "         [-1.4682, -0.8291,  2.4412,  0.9550,  3.9232],\n",
            "         [ 1.1825,  1.0358,  0.9665,  0.9463, -1.0714]],\n",
            "\n",
            "        [[-2.5033, -0.2165, -0.7038,  0.7821,  1.8921],\n",
            "         [ 0.2307, -2.4819, -2.6613,  1.8039,  2.6684],\n",
            "         [ 1.3746, -2.0840, -1.6117,  2.9021,  2.6051]],\n",
            "\n",
            "        [[ 1.3481,  0.0839, -1.1726, -0.7073, -2.0024],\n",
            "         [ 2.9238, -1.4379,  0.4260, -0.6927, -0.0472],\n",
            "         [-0.2446, -2.1180, -1.3340,  2.2566,  3.4711]],\n",
            "\n",
            "        [[ 2.0308,  0.5655,  3.0822,  5.4340,  2.6592],\n",
            "         [ 0.8066,  0.0159,  0.6471, -0.3405, -0.3498],\n",
            "         [-0.6057, -1.9418, -1.1538,  1.0801,  2.9219]]])\n",
            "The size is: torch.Size([10, 3, 5])\n"
          ]
        }
      ]
    },
    {
      "cell_type": "code",
      "source": [
        "# Addition\n",
        "a = torch.randn(5)\n",
        "result = torch.add(a, 20)\n",
        "print(\"Before add:\", a)\n",
        "print(\"Result is:\", result)\n",
        "print(\"Size is:\", result.size())"
      ],
      "metadata": {
        "colab": {
          "base_uri": "https://localhost:8080/"
        },
        "id": "aRDkpV-YU8_E",
        "outputId": "b28bd5f5-0e4d-4e0c-f5c7-a9317f1bc1fc"
      },
      "execution_count": 18,
      "outputs": [
        {
          "output_type": "stream",
          "name": "stdout",
          "text": [
            "Before add: tensor([-1.1426, -0.5012, -0.9041, -0.3318, -1.1438])\n",
            "Result is: tensor([18.8574, 19.4988, 19.0959, 19.6682, 18.8562])\n",
            "Size is: torch.Size([5])\n"
          ]
        }
      ]
    },
    {
      "cell_type": "code",
      "source": [
        "# (4,1) -> (4,4)\n",
        "b = torch.randn(4)\n",
        "print(\"b:\", b)\n",
        "c = torch.randn(4, 1)\n",
        "print(\"c\", c)\n",
        "\n",
        "result1 = torch.add(b, c)\n",
        "print(\"Result 1 is:\", result1)\n",
        "print(\"Size 1 is:\", result1.size())\n",
        "result2 = torch.add(b, c, alpha=10)\n",
        "print(\"Result 2 is:\", result2)\n",
        "print(\"Size 2 is:\", result2.size())"
      ],
      "metadata": {
        "colab": {
          "base_uri": "https://localhost:8080/"
        },
        "id": "2DofcGodU-xE",
        "outputId": "1c1639d3-c1b8-4be5-84eb-f349aaf90726"
      },
      "execution_count": 19,
      "outputs": [
        {
          "output_type": "stream",
          "name": "stdout",
          "text": [
            "b: tensor([-0.1042,  0.1936, -0.4678, -0.3364])\n",
            "c tensor([[ 0.6377],\n",
            "        [ 0.5396],\n",
            "        [-0.8478],\n",
            "        [-0.3907]])\n",
            "Result 1 is: tensor([[ 0.5335,  0.8313,  0.1699,  0.3013],\n",
            "        [ 0.4354,  0.7332,  0.0718,  0.2032],\n",
            "        [-0.9520, -0.6543, -1.3157, -1.1842],\n",
            "        [-0.4949, -0.1972, -0.8586, -0.7272]])\n",
            "Size 1 is: torch.Size([4, 4])\n",
            "Result 2 is: tensor([[ 6.2731,  6.5709,  5.9095,  6.0409],\n",
            "        [ 5.2920,  5.5897,  4.9283,  5.0598],\n",
            "        [-8.5825, -8.2847, -8.9461, -8.8147],\n",
            "        [-4.0117, -3.7139, -4.3753, -4.2439]])\n",
            "Size 2 is: torch.Size([4, 4])\n"
          ]
        }
      ]
    },
    {
      "cell_type": "code",
      "source": [
        "# View\n",
        "# Flattening\n",
        "tensor = torch.randn(2, 3, 4)\n",
        "flattened = tensor.view(-1)\n",
        "print(\"Before flattening:\", tensor)\n",
        "print(\"Size before flattening:\", tensor.size())\n",
        "print(\"After flattening:\", flattened)\n",
        "print(\"Size after flattening:\", flattened.size())"
      ],
      "metadata": {
        "colab": {
          "base_uri": "https://localhost:8080/"
        },
        "id": "khJ4opIlVAwE",
        "outputId": "afb80fa6-aff9-4a0e-8aab-d75f16d7db78"
      },
      "execution_count": 20,
      "outputs": [
        {
          "output_type": "stream",
          "name": "stdout",
          "text": [
            "Before flattening: tensor([[[ 0.8995, -0.5877,  2.4224,  1.0585],\n",
            "         [ 1.2734, -1.3937, -1.5983,  2.0075],\n",
            "         [-1.1224,  0.4970,  0.1526, -0.8770]],\n",
            "\n",
            "        [[-1.0646,  0.0351,  0.2587,  1.1945],\n",
            "         [ 0.2842,  2.0315, -1.3242, -0.6246],\n",
            "         [-2.0583, -0.0768,  0.8504, -0.6495]]])\n",
            "Size before flattening: torch.Size([2, 3, 4])\n",
            "After flattening: tensor([ 0.8995, -0.5877,  2.4224,  1.0585,  1.2734, -1.3937, -1.5983,  2.0075,\n",
            "        -1.1224,  0.4970,  0.1526, -0.8770, -1.0646,  0.0351,  0.2587,  1.1945,\n",
            "         0.2842,  2.0315, -1.3242, -0.6246, -2.0583, -0.0768,  0.8504, -0.6495])\n",
            "Size after flattening: torch.Size([24])\n"
          ]
        }
      ]
    },
    {
      "cell_type": "code",
      "source": [
        "# Reshaping\n",
        "tensor = torch.randn(2, 3, 4)\n",
        "reshaped = tensor.view(3, 8)\n",
        "print(\"Before reshaping:\", tensor)\n",
        "print(\"Size before reshaping:\", tensor.size())\n",
        "print(\"After reshaping:\", reshaped)\n",
        "print(\"Size after reshaping:\", reshaped.size())"
      ],
      "metadata": {
        "colab": {
          "base_uri": "https://localhost:8080/"
        },
        "id": "zVoKxtx1VCkH",
        "outputId": "61213ba2-5ed5-4820-ac55-2957c28628c8"
      },
      "execution_count": 21,
      "outputs": [
        {
          "output_type": "stream",
          "name": "stdout",
          "text": [
            "Before reshaping: tensor([[[-1.5702, -0.6965,  2.4597, -0.1926],\n",
            "         [ 0.4233, -0.1289, -0.5299,  0.1773],\n",
            "         [ 2.0701, -0.5939,  0.1996, -0.2840]],\n",
            "\n",
            "        [[-0.1606, -0.2872,  0.4416,  0.0583],\n",
            "         [ 0.1485, -0.4567, -0.5568, -0.2828],\n",
            "         [ 0.6077, -0.2251,  0.4194, -0.5447]]])\n",
            "Size before reshaping: torch.Size([2, 3, 4])\n",
            "After reshaping: tensor([[-1.5702, -0.6965,  2.4597, -0.1926,  0.4233, -0.1289, -0.5299,  0.1773],\n",
            "        [ 2.0701, -0.5939,  0.1996, -0.2840, -0.1606, -0.2872,  0.4416,  0.0583],\n",
            "        [ 0.1485, -0.4567, -0.5568, -0.2828,  0.6077, -0.2251,  0.4194, -0.5447]])\n",
            "Size after reshaping: torch.Size([3, 8])\n"
          ]
        }
      ]
    },
    {
      "cell_type": "code",
      "source": [
        "# Changing dtype\n",
        "tensor = torch.randn(4, 4)\n",
        "print(\"Data type:\", tensor.dtype)\n",
        "tensor1 = tensor.view(torch.int32)\n",
        "print(\"Data type:\", tensor1.dtype)"
      ],
      "metadata": {
        "colab": {
          "base_uri": "https://localhost:8080/"
        },
        "id": "hYudHC6lVEXQ",
        "outputId": "bbd8e37e-78e7-46cc-bf0e-2765e0b8c135"
      },
      "execution_count": 22,
      "outputs": [
        {
          "output_type": "stream",
          "name": "stdout",
          "text": [
            "Data type: torch.float32\n",
            "Data type: torch.int32\n"
          ]
        }
      ]
    },
    {
      "cell_type": "markdown",
      "source": [
        "### 4. torch.Tensor.to"
      ],
      "metadata": {
        "id": "me-T2NLyVIeH"
      }
    },
    {
      "cell_type": "code",
      "source": [
        "tensor = torch.randn(3, 2)\n",
        "print(\"Original:\", tensor)\n",
        "print(\"Origial dtype:\", tensor.dtype)\n",
        "print(\"Original device:\", tensor.device)\n",
        "\n",
        "tensor_f16 = tensor.to(torch.float16)\n",
        "print(\"Converted dtype float16:\", tensor_f16.dtype)\n",
        "\n",
        "tensor_int = tensor.to(torch.int32)\n",
        "print(\"Converted dtype int32:\", tensor_int.dtype)\n",
        "\n",
        "# Move tensor to GPU\n",
        "tensor_gpu = tensor.to(\"cuda\")\n",
        "print(\"Tensor moved to:\", tensor_gpu.device)\n",
        "\n",
        "# Move tensor back to CPU\n",
        "tensor_cpu = tensor_gpu.to(\"cpu\")\n",
        "print(\"Tensor moved to:\", tensor_cpu.device)"
      ],
      "metadata": {
        "colab": {
          "base_uri": "https://localhost:8080/"
        },
        "id": "ueU0DYz6VJHY",
        "outputId": "f37ac4c3-5513-4b43-c462-0e504b8b760d"
      },
      "execution_count": 23,
      "outputs": [
        {
          "output_type": "stream",
          "name": "stdout",
          "text": [
            "Original: tensor([[ 0.3275, -0.1116],\n",
            "        [ 0.6816, -1.6725],\n",
            "        [ 1.1118,  0.3435]])\n",
            "Origial dtype: torch.float32\n",
            "Original device: cpu\n",
            "Converted dtype float16: torch.float16\n",
            "Converted dtype int32: torch.int32\n",
            "Tensor moved to: cuda:0\n",
            "Tensor moved to: cpu\n"
          ]
        }
      ]
    },
    {
      "cell_type": "markdown",
      "source": [
        "### 5. Linear Regression"
      ],
      "metadata": {
        "id": "-cgaAm7JVQMA"
      }
    },
    {
      "cell_type": "code",
      "source": [
        "import torch\n",
        "import torch.nn as nn\n",
        "import torch.optim as optim\n",
        "import matplotlib.pyplot as plt\n",
        "\n",
        "# Generating Train Test Data\n",
        "torch.manual_seed(42)\n",
        "n_train, n_test = 20, 20\n",
        "x_train = torch.linspace(-1, 1, n_train).view(-1, 1)\n",
        "y_train = 2 * x_train + torch.randn(n_train, 1)\n",
        "x_test = torch.linspace(-1, 1, n_test).view(-1, 1)\n",
        "y_test = 2 * x_test + torch.randn(n_test, 1)\n",
        "\n",
        "# Plot Data\n",
        "plt.scatter(x_train.numpy(), y_train.numpy(), label=\"Training data\")\n",
        "plt.scatter(x_test.numpy(), y_test.numpy(), label=\"Test data\")\n",
        "plt.legend()\n",
        "plt.title(\"Scatterplot of Traning and Test Data\")\n",
        "plt.show()"
      ],
      "metadata": {
        "colab": {
          "base_uri": "https://localhost:8080/",
          "height": 452
        },
        "id": "ot3sOzTXVLUa",
        "outputId": "e9266e9b-d63c-4c1d-86f4-fe343ee22acd"
      },
      "execution_count": 24,
      "outputs": [
        {
          "output_type": "display_data",
          "data": {
            "text/plain": [
              "<Figure size 640x480 with 1 Axes>"
            ],
            "image/png": "[encoded data removed]"
          },
          "metadata": {}
        }
      ]
    },
    {
      "cell_type": "code",
      "source": [
        "# Build Regression Model\n",
        "## nn.Module from parent\n",
        "class LinearRegression(nn.Module):\n",
        "  def __init__(self):\n",
        "    # call the __init__ from parent nn\n",
        "    super().__init__()\n",
        "    self.linear = nn.Linear(1, 1) # only 1 layer, input 1 dimension, output 1 dimension, and create model.parameters()\n",
        "\n",
        "  def forward(self, x):\n",
        "    return self.linear(x) # calculate y=wx+b"
      ],
      "metadata": {
        "id": "loMdPvouX67e"
      },
      "execution_count": 25,
      "outputs": []
    },
    {
      "cell_type": "code",
      "source": [
        "model = LinearRegression()\n",
        "loss_fn = nn.MSELoss()\n",
        "optimizer = optim.SGD(model.parameters(), lr=0.1, momentum=0.9)"
      ],
      "metadata": {
        "id": "ttHqP-JGaBUU"
      },
      "execution_count": 26,
      "outputs": []
    },
    {
      "cell_type": "code",
      "source": [
        "# Training the model\n",
        "epochs = 1000\n",
        "train_losses = []\n",
        "test_losses = []\n",
        "for epoch in range(epochs):\n",
        "  model.train() # Into training mode\n",
        "  optimizer.zero_grad() # clear the gradient of the last epoch\n",
        "  y_pred = model(x_train)\n",
        "  loss = loss_fn(y_pred, y_train) # pred should be in the first\n",
        "  loss.backward() # calculate parcial derivitive of loss to w and b\n",
        "  optimizer.step() # update w and b based on former backward gradient\n",
        "  train_losses.append(loss.item()) # loss.item() change the tesor into float\n",
        "\n",
        "  if epoch % 5 == 0:\n",
        "    model.eval() # Into evaluation mode\n",
        "    with torch.no_grad(): # close the gradient calculation\n",
        "      test_pred = model(x_test)\n",
        "      test_loss = loss_fn(test_pred, y_test).item() # calculte the error\n",
        "      test_losses.append((epoch, test_loss))"
      ],
      "metadata": {
        "id": "SAVcr1KlaORR"
      },
      "execution_count": 27,
      "outputs": []
    },
    {
      "cell_type": "code",
      "source": [
        "# Draw the loss line\n",
        "plt.plot(range(epochs), train_losses, label=\"Training Loss\")\n",
        "plt.plot(*zip(*test_losses), label=\"Test Loss\", linestyle=\"dashed\") # equal to plt.plot(epochs_list, loss_list, linestyle=\"dashed\")\n",
        "plt.xlabel(\"Epochs\")\n",
        "plt.ylabel(\"MSE Loss\")\n",
        "plt.legend()\n",
        "plt.title(\"Train Test Loss\")\n",
        "plt.show()"
      ],
      "metadata": {
        "colab": {
          "base_uri": "https://localhost:8080/",
          "height": 472
        },
        "id": "aVAVJEqzuylC",
        "outputId": "10494838-d5e4-4c41-fe2f-5fa97a918b61"
      },
      "execution_count": 28,
      "outputs": [
        {
          "output_type": "display_data",
          "data": {
            "text/plain": [
              "<Figure size 640x480 with 1 Axes>"
            ],
            "image/png": "[encoded data removed]"
          },
          "metadata": {}
        }
      ]
    },
    {
      "cell_type": "code",
      "source": [
        "# Plot the trained linear model and test data\n",
        "plt.scatter(x_test.numpy(), y_test.numpy(), label=\"Test Data\", marker=\"x\")\n",
        "plt.plot(x_test.numpy(), model(x_test).detach().numpy(), label=\"Trained Model\", color=\"blue\")\n",
        "plt.legend()\n",
        "plt.title(\"Trained Model and Test Data\")\n",
        "plt.show()"
      ],
      "metadata": {
        "colab": {
          "base_uri": "https://localhost:8080/",
          "height": 452
        },
        "id": "W8JoEpUFxao1",
        "outputId": "4d1eb564-4c2b-4a9d-aeb7-5cbc6e4104bd"
      },
      "execution_count": 29,
      "outputs": [
        {
          "output_type": "display_data",
          "data": {
            "text/plain": [
              "<Figure size 640x480 with 1 Axes>"
            ],
            "image/png": "[encoded data removed]"
          },
          "metadata": {}
        }
      ]
    },
    {
      "cell_type": "code",
      "source": [
        "# Print the best parameters\n",
        "w, b = model.linear.weight.item(), model.linear.bias.item()\n",
        "print(f\"Trained parameters: w = {w:.4f}, b = {b:.4f}\")"
      ],
      "metadata": {
        "colab": {
          "base_uri": "https://localhost:8080/"
        },
        "id": "bJr-BppJ3F2N",
        "outputId": "58c0310d-3597-45b2-f1c7-96e5c3aeeb20"
      },
      "execution_count": 30,
      "outputs": [
        {
          "output_type": "stream",
          "name": "stdout",
          "text": [
            "Trained parameters: w = 1.5333, b = 0.2162\n"
          ]
        }
      ]
    },
    {
      "cell_type": "code",
      "source": [
        "# Compare the trained parameters to the one from OLS\n",
        "X = torch.cat([torch.ones_like(x_train), x_train], dim=1)\n",
        "w_ols = torch.linalg.lstsq(X, y_train).solution\n",
        "print(f\"Analytical best parameters: w = {w_ols[1].item():.4f}, b = {w_ols[0].item():.4f}\")"
      ],
      "metadata": {
        "colab": {
          "base_uri": "https://localhost:8080/"
        },
        "id": "yXbxTup73fA4",
        "outputId": "b6e510e9-a127-46cb-da60-8ebfde817249"
      },
      "execution_count": 31,
      "outputs": [
        {
          "output_type": "stream",
          "name": "stdout",
          "text": [
            "Analytical best parameters: w = 1.5333, b = 0.2162\n"
          ]
        }
      ]
    },
    {
      "cell_type": "markdown",
      "source": [
        "### 6. Image Classification"
      ],
      "metadata": {
        "id": "W51eoG4i58Cw"
      }
    },
    {
      "cell_type": "code",
      "source": [
        "import torch\n",
        "import torch.nn as nn\n",
        "import torch.optim as optim\n",
        "import torchvision\n",
        "import torchvision.transforms as transforms\n",
        "import matplotlib.pyplot as plt\n",
        "import numpy as np\n",
        "import torch.nn.functional as F\n",
        "\n",
        "device = torch.device(\"cuda\" if torch.cuda.is_available() else \"cpu\")"
      ],
      "metadata": {
        "id": "-WXD2TfV6teQ"
      },
      "execution_count": 32,
      "outputs": []
    },
    {
      "cell_type": "code",
      "source": [
        "# Import Dataset\n",
        "transform = transforms.ToTensor()\n",
        "train_dataset = torchvision.datasets.MNIST(root=\"./data\", train=True, transform=transform, download=True)\n",
        "test_dataset = torchvision.datasets.MNIST(root=\"./data\", train=False, transform=transform, download=True)"
      ],
      "metadata": {
        "colab": {
          "base_uri": "https://localhost:8080/"
        },
        "collapsed": true,
        "id": "tdgnpOwbDxGj",
        "outputId": "5336caf3-e52f-486d-eca7-733a811fe572"
      },
      "execution_count": 33,
      "outputs": [
        {
          "output_type": "stream",
          "name": "stdout",
          "text": [
            "Downloading http://yann.lecun.com/exdb/mnist/train-images-idx3-ubyte.gz\n",
            "Failed to download (trying next):\n",
            "HTTP Error 404: Not Found\n",
            "\n",
            "Downloading https://ossci-datasets.s3.amazonaws.com/mnist/train-images-idx3-ubyte.gz\n",
            "Downloading https://ossci-datasets.s3.amazonaws.com/mnist/train-images-idx3-ubyte.gz to ./data/MNIST/raw/train-images-idx3-ubyte.gz\n"
          ]
        },
        {
          "output_type": "stream",
          "name": "stderr",
          "text": [
            "100%|██████████| 9.91M/9.91M [00:00<00:00, 15.6MB/s]\n"
          ]
        },
        {
          "output_type": "stream",
          "name": "stdout",
          "text": [
            "Extracting ./data/MNIST/raw/train-images-idx3-ubyte.gz to ./data/MNIST/raw\n",
            "\n",
            "Downloading http://yann.lecun.com/exdb/mnist/train-labels-idx1-ubyte.gz\n",
            "Failed to download (trying next):\n",
            "HTTP Error 404: Not Found\n",
            "\n",
            "Downloading https://ossci-datasets.s3.amazonaws.com/mnist/train-labels-idx1-ubyte.gz\n",
            "Downloading https://ossci-datasets.s3.amazonaws.com/mnist/train-labels-idx1-ubyte.gz to ./data/MNIST/raw/train-labels-idx1-ubyte.gz\n"
          ]
        },
        {
          "output_type": "stream",
          "name": "stderr",
          "text": [
            "100%|██████████| 28.9k/28.9k [00:00<00:00, 407kB/s]\n"
          ]
        },
        {
          "output_type": "stream",
          "name": "stdout",
          "text": [
            "Extracting ./data/MNIST/raw/train-labels-idx1-ubyte.gz to ./data/MNIST/raw\n",
            "\n",
            "Downloading http://yann.lecun.com/exdb/mnist/t10k-images-idx3-ubyte.gz\n",
            "Failed to download (trying next):\n",
            "HTTP Error 404: Not Found\n",
            "\n",
            "Downloading https://ossci-datasets.s3.amazonaws.com/mnist/t10k-images-idx3-ubyte.gz\n",
            "Downloading https://ossci-datasets.s3.amazonaws.com/mnist/t10k-images-idx3-ubyte.gz to ./data/MNIST/raw/t10k-images-idx3-ubyte.gz\n"
          ]
        },
        {
          "output_type": "stream",
          "name": "stderr",
          "text": [
            "100%|██████████| 1.65M/1.65M [00:00<00:00, 4.32MB/s]\n"
          ]
        },
        {
          "output_type": "stream",
          "name": "stdout",
          "text": [
            "Extracting ./data/MNIST/raw/t10k-images-idx3-ubyte.gz to ./data/MNIST/raw\n",
            "\n",
            "Downloading http://yann.lecun.com/exdb/mnist/t10k-labels-idx1-ubyte.gz\n",
            "Failed to download (trying next):\n",
            "HTTP Error 404: Not Found\n",
            "\n",
            "Downloading https://ossci-datasets.s3.amazonaws.com/mnist/t10k-labels-idx1-ubyte.gz\n",
            "Downloading https://ossci-datasets.s3.amazonaws.com/mnist/t10k-labels-idx1-ubyte.gz to ./data/MNIST/raw/t10k-labels-idx1-ubyte.gz\n"
          ]
        },
        {
          "output_type": "stream",
          "name": "stderr",
          "text": [
            "100%|██████████| 4.54k/4.54k [00:00<00:00, 627kB/s]\n"
          ]
        },
        {
          "output_type": "stream",
          "name": "stdout",
          "text": [
            "Extracting ./data/MNIST/raw/t10k-labels-idx1-ubyte.gz to ./data/MNIST/raw\n",
            "\n"
          ]
        }
      ]
    },
    {
      "cell_type": "code",
      "source": [
        "# Visualize an image from each of ten classes\n",
        "def visualize_data(dataset):\n",
        "  fig, axes = plt.subplots(1, 10, figsize=(12, 2)) # 1 row and 10 columns, size 12inchs wide and 2inchs tall. axes(list): This are actual subplots. An array (list) of individual subplots inside the figure\n",
        "  labels_seen = set()\n",
        "  for img, label in dataset:\n",
        "    if label not in labels_seen:\n",
        "      axes[label].imshow(img.view(28, 28), cmap=\"gray\") # img was [1,28,28],1 represents grey #imshows is from matplotlib, it needs [height, width]\n",
        "      axes[label].set_title(f\"Label: {label}\")\n",
        "      axes[label].axis(\"off\")\n",
        "      labels_seen.add(label)\n",
        "    if len(labels_seen) == 10:\n",
        "      break\n",
        "  plt.show()\n",
        "\n",
        "visualize_data(train_dataset)"
      ],
      "metadata": {
        "colab": {
          "base_uri": "https://localhost:8080/",
          "height": 138
        },
        "id": "XTCPVeVZFdvu",
        "outputId": "cefcc2be-0bf3-4fcf-c894-888a40a83a10"
      },
      "execution_count": 34,
      "outputs": [
        {
          "output_type": "display_data",
          "data": {
            "text/plain": [
              "<Figure size 1200x200 with 10 Axes>"
            ],
            "image/png": "[encoded data removed]"
          },
          "metadata": {}
        }
      ]
    },
    {
      "cell_type": "code",
      "source": [
        "batch_size = 64\n",
        "train_loader = torch.utils.data.DataLoader(train_dataset, batch_size=batch_size, shuffle=True)\n",
        "test_loader = torch.utils.data.DataLoader(test_dataset, batch_size=batch_size, shuffle=False)"
      ],
      "metadata": {
        "id": "NQnG4Sb6aHUM"
      },
      "execution_count": 35,
      "outputs": []
    },
    {
      "cell_type": "code",
      "source": [
        "# MLP Model\n",
        "class MLP(nn.Module):\n",
        "  def __init__(self):\n",
        "    super(MLP, self).__init__()\n",
        "    self.flatten = nn.Flatten() # 2D->1D, 28*28->784\n",
        "    self.fc1 = nn.Linear(28*28, 50) #input784,output50\n",
        "    self.fc2 = nn.Linear(50, 50)\n",
        "    self.fc3 = nn.Linear(50, 10)\n",
        "  def forward(self, x):\n",
        "    x = self.flatten(x)\n",
        "    x = F.relu(self.fc1(x))\n",
        "    x = F.relu(self.fc2(x))\n",
        "    x = self.fc3(x)\n",
        "    return x\n",
        "model = MLP().to(device)\n",
        "print(model)"
      ],
      "metadata": {
        "colab": {
          "base_uri": "https://localhost:8080/"
        },
        "id": "JgAV2F5bXzfV",
        "outputId": "52686962-fbb7-48d5-da02-00422ec48cfe"
      },
      "execution_count": 36,
      "outputs": [
        {
          "output_type": "stream",
          "name": "stdout",
          "text": [
            "MLP(\n",
            "  (flatten): Flatten(start_dim=1, end_dim=-1)\n",
            "  (fc1): Linear(in_features=784, out_features=50, bias=True)\n",
            "  (fc2): Linear(in_features=50, out_features=50, bias=True)\n",
            "  (fc3): Linear(in_features=50, out_features=10, bias=True)\n",
            ")\n"
          ]
        }
      ]
    },
    {
      "cell_type": "code",
      "source": [
        "# Instantiate the loss function\n",
        "criterion = nn.CrossEntropyLoss()\n",
        "optimizer = optim.SGD(model.parameters(), lr=0.01, momentum=0.9)"
      ],
      "metadata": {
        "id": "JCQrKF7Uf9ci"
      },
      "execution_count": 37,
      "outputs": []
    },
    {
      "cell_type": "code",
      "source": [
        "epochs = 20\n",
        "train_losses = []\n",
        "test_accuracies = []\n",
        "for epoch in range(epochs):\n",
        "  model.train()\n",
        "  running_loss = 0.0\n",
        "\n",
        "  for images, labels in train_loader:\n",
        "    images, labels = images.to(device), labels.to(device)\n",
        "    optimizer.zero_grad()\n",
        "    outputs = model(images)\n",
        "    loss = criterion(outputs, labels)\n",
        "    loss.backward()\n",
        "    optimizer.step()\n",
        "    running_loss += loss.item()\n",
        "  train_losses.append(running_loss/len(train_loader))\n",
        "\n",
        "  model.eval()\n",
        "  correct = 0\n",
        "  total = 0\n",
        "  with torch.no_grad():\n",
        "    for images, labels in test_loader:\n",
        "      images, labels = images.to(device), labels.to(device)\n",
        "      outputs = model(images)\n",
        "      _, predicted = torch.max(outputs, 1)\n",
        "      total += labels.size(0)\n",
        "      correct += (predicted == labels).sum().item()\n",
        "  accuracy = correct/total\n",
        "  test_accuracies.append(accuracy)\n",
        "  print(f\"Epoch [{epoch+1}/{epochs}], Loss:{train_losses[-1]:.4f}, Test Accuracy:{accuracy:.4f}\")"
      ],
      "metadata": {
        "colab": {
          "base_uri": "https://localhost:8080/"
        },
        "id": "PutIoA8UpVJp",
        "outputId": "b57983b4-6b57-46ef-9ca4-7156ef0ea76c"
      },
      "execution_count": 39,
      "outputs": [
        {
          "output_type": "stream",
          "name": "stdout",
          "text": [
            "Epoch [1/20], Loss:0.2129, Test Accuracy:0.9494\n",
            "Epoch [2/20], Loss:0.1567, Test Accuracy:0.9594\n",
            "Epoch [3/20], Loss:0.1208, Test Accuracy:0.9642\n",
            "Epoch [4/20], Loss:0.1013, Test Accuracy:0.9673\n",
            "Epoch [5/20], Loss:0.0871, Test Accuracy:0.9672\n",
            "Epoch [6/20], Loss:0.0760, Test Accuracy:0.9685\n",
            "Epoch [7/20], Loss:0.0674, Test Accuracy:0.9705\n",
            "Epoch [8/20], Loss:0.0625, Test Accuracy:0.9725\n",
            "Epoch [9/20], Loss:0.0546, Test Accuracy:0.9707\n",
            "Epoch [10/20], Loss:0.0505, Test Accuracy:0.9723\n",
            "Epoch [11/20], Loss:0.0458, Test Accuracy:0.9733\n",
            "Epoch [12/20], Loss:0.0413, Test Accuracy:0.9701\n",
            "Epoch [13/20], Loss:0.0374, Test Accuracy:0.9720\n",
            "Epoch [14/20], Loss:0.0338, Test Accuracy:0.9729\n",
            "Epoch [15/20], Loss:0.0309, Test Accuracy:0.9721\n",
            "Epoch [16/20], Loss:0.0287, Test Accuracy:0.9721\n",
            "Epoch [17/20], Loss:0.0272, Test Accuracy:0.9734\n",
            "Epoch [18/20], Loss:0.0244, Test Accuracy:0.9748\n",
            "Epoch [19/20], Loss:0.0231, Test Accuracy:0.9715\n",
            "Epoch [20/20], Loss:0.0209, Test Accuracy:0.9725\n"
          ]
        }
      ]
    },
    {
      "cell_type": "code",
      "source": [
        "# Plot\n",
        "plt.figure(figsize=(10, 4))\n",
        "plt.subplot(1, 2, 1)\n",
        "plt.plot(range(1, epochs+1), train_losses, marker=\"o\", linestyle=\"-\")\n",
        "plt.xlabel(\"Epoch\")\n",
        "plt.ylabel(\"Training Loss\")\n",
        "plt.title(\"Training Loss over Epochs\")\n",
        "\n",
        "plt.subplot(1, 2, 2)\n",
        "plt.plot(range(1, epochs+1), test_accuracies, marker=\"o\", linestyle=\"-\")\n",
        "plt.xlabel(\"Epoch\")\n",
        "plt.ylabel(\"Test Accuracy\")\n",
        "plt.title(\"Test accucacy over Epochs\")\n",
        "\n",
        "plt.show()"
      ],
      "metadata": {
        "colab": {
          "base_uri": "https://localhost:8080/",
          "height": 410
        },
        "id": "oJQqq0Ys7Fi-",
        "outputId": "60cd8f1e-02d4-4c45-9a46-be23bd94888b"
      },
      "execution_count": 41,
      "outputs": [
        {
          "output_type": "display_data",
          "data": {
            "text/plain": [
              "<Figure size 1000x400 with 2 Axes>"
            ],
            "image/png": "[encoded data removed]"
          },
          "metadata": {}
        }
      ]
    }
  ]
}
